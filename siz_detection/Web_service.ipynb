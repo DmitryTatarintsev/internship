{
 "cells": [
  {
   "cell_type": "markdown",
   "metadata": {
    "id": "ikj65C9Fm8My"
   },
   "source": [
    "## Web service (Демонстрационная версия)\n",
    "Создаем веб сервис для снимков на Streamlit API\n"
   ]
  },
  {
   "cell_type": "code",
   "execution_count": null,
   "metadata": {
    "id": "HtbD8AH13Vp7"
   },
   "outputs": [],
   "source": [
    "%%writefile app.py\n",
    "import streamlit as st\n",
    "from PIL import Image\n",
    "from ultralytics import YOLO\n",
    "\n",
    "# Load a pretrained YOLO model\n",
    "wght = 'best.pt'\n",
    "model = YOLO(wght)\n",
    "mn = {\n",
    "    0: '',\n",
    "    1: '',\n",
    "    2: '',\n",
    "    3: '',\n",
    "    4: 'НАРУШЕНИЕ',\n",
    "    5: 'НАРУШЕНИЕ',\n",
    "    6: 'НАРУШЕНИЕ',\n",
    "    7: 'НАРУШЕНИЕ',\n",
    "    8: 'НАРУШЕНИЕ',\n",
    "    9: ''\n",
    "}\n",
    "\n",
    "def greet(image):\n",
    "    # Run inference on an image\n",
    "    results = model(image)  # results list\n",
    "    # Visualize the results\n",
    "    for i, r in enumerate(results):\n",
    "        r.names = mn\n",
    "        # Plot results image\n",
    "        im_bgr = r.plot(line_width=3, font_size=22, labels=True, conf=True)  # BGR-order numpy array\n",
    "        im_rgb = im_bgr[..., ::-1]  # Convert BGR to RGB\n",
    "    return im_rgb\n",
    "\n",
    "def main():\n",
    "    st.markdown(\"### YOLOv9-c и API Streamlit 1280x1280 с весами детекции СИЗ УРАЛ ЗАВОДА для территории: склада, снаружи склада, курилка день/ночь на ближней дистанции. Детекция снимков\")\n",
    "    st.write(\"YOLOv9-c - мощная универсальная одноэтапная модель детекции. Это самая быстрая и надежная версия YOLO от Ultralytics на 2024 год. Легко обучаема и настраиваема.\")\n",
    "    st.write(\"Streamlit - это API пользовательского интерфейса для обработки изображений, но его также можно адаптировать для работы с видео. Или заменить на технический (сервисный) интерфейс для автоматизированной работы и интеграции со сторонним программным обеспечением.\")\n",
    "    st.write(\"\")\n",
    "    st.markdown(\"##### Классы:\")\n",
    "    st.write(\"- ['Каска', 'Перчатка', 'Обувь', 'Одежда', 'Рабочие']\")\n",
    "    st.write(\"- ['Курение', 'Каска. Нарушение', 'Перчатка. Нарушение', 'Обувью Нарушение', 'Одежда. Нарушение']\")\n",
    "    st.write(\"\")\n",
    "\n",
    "    # Display instruction text\n",
    "    st.markdown(\"##### Инструкция:\")\n",
    "    st.write(\"1. Загрузите свое изображение, используя кнопку 'Upload an image'.\")\n",
    "    st.write(\"2. После загрузки изображения результаты обработки отобразятся ниже.\")\n",
    "    st.write(\"\")\n",
    "\n",
    "    # Add a button to upload an image\n",
    "    uploaded_image = st.file_uploader(\"Upload an image\", type=[\"jpg\", \"jpeg\", \"png\"])\n",
    "\n",
    "    # Process the uploaded image if available\n",
    "    if uploaded_image is not None:\n",
    "\n",
    "        st.write(\"В результате будет детектированный снимок. Все найденные объекты выделены ограничивающей рамкой (баундинг боксом). И идентифицированы опеределенным классом - цветом рамки.\")\n",
    "\n",
    "        image = Image.open(uploaded_image)\n",
    "        st.image(greet(image), caption='Processed Image', use_column_width=True)\n",
    "\n",
    "        st.write(\"Отсутствие средств индивидуальной защиты или курение считается нарушением и дополнительно выделяется предупреждением 'НАРУШЕНИЕ' над прямоугльником.\")\n",
    "\n",
    "    st.write(\"\")\n",
    "    st.markdown(\"##### Рекомендации:\")\n",
    "    st.write(\"- Размер снимка равен или более 1280x1280.\")\n",
    "    st.write(\"- Снимок с камер УРАЛ ЗАВОДА: склада, снаружи склада, курилка день/ночь.\")\n",
    "    st.write(\"- Чем ближе объект - тем выше шанс детекции. Если объект далеко, можно масштабировать зону поиска.\")\n",
    "\n",
    "    st.write(\"\")\n",
    "    st.write(\"Результаты теста на независимых данных про соблюдении рекомендациий.\")\n",
    "    # Пути к изображениям\n",
    "    image1_path = 'confusion_matrix_normalized.png'\n",
    "    image2_path = 'PR_curve.png'\n",
    "    # Делаем две колонки\n",
    "    col1, col2 = st.columns(2)\n",
    "    # Отображаем изображения в каждой колонке\n",
    "    with col1:\n",
    "        st.image(image1_path, caption='Матрица ошибок', use_column_width=True)\n",
    "    with col2:\n",
    "        st.image(image2_path, caption='Соотношение точности к полноте', use_column_width=True)\n",
    "\n",
    "    st.write(\"\")\n",
    "    st.write(\"Но даже при соблюдении всех рекомендаций бывают исключения, когда детекция не срабатывает, а в плохих условиях работает. Моделей с 100% точностью не бывает.\")\n",
    "    st.write(\"Спасибо за внимание!\")\n",
    "    st.write(\"Автор: https://t.me/dtatarintsev\")\n",
    "    st.write(\"GitHub проекта: https://github.com/NeuronsUII/Zavod_Ural_n/tree/main/dtatarintsev\")\n",
    "\n",
    "if __name__ == '__main__':\n",
    "    main()\n"
   ]
  }
 ],
 "metadata": {
  "colab": {
   "provenance": []
  },
  "kernelspec": {
   "display_name": "Python 3 (ipykernel)",
   "language": "python",
   "name": "python3"
  },
  "language_info": {
   "codemirror_mode": {
    "name": "ipython",
    "version": 3
   },
   "file_extension": ".py",
   "mimetype": "text/x-python",
   "name": "python",
   "nbconvert_exporter": "python",
   "pygments_lexer": "ipython3",
   "version": "3.11.5"
  }
 },
 "nbformat": 4,
 "nbformat_minor": 1
}
