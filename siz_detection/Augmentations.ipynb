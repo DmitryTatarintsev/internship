{
 "cells": [
  {
   "cell_type": "markdown",
   "id": "7bb10a55",
   "metadata": {},
   "source": [
    "Этот код генерирует случайные значения для изменения яркости, контраста и добавления шума в диапазоне (5% - 15%) для каждого изображения. После применения аугментаций они заменяют оригинальные изображения. "
   ]
  },
  {
   "cell_type": "code",
   "execution_count": 2,
   "id": "e9b7f9b1",
   "metadata": {},
   "outputs": [
    {
     "name": "stdout",
     "output_type": "stream",
     "text": [
      "Аугментации применены успешно.\n",
      "CPU times: total: 7min 19s\n",
      "Wall time: 36min 24s\n"
     ]
    }
   ],
   "source": [
    "%%time\n",
    "\n",
    "import os\n",
    "import cv2\n",
    "import numpy as np\n",
    "\n",
    "# Функция для изменения яркости и контраста изображения с случайными значениями в диапазоне (5% - 15%)\n",
    "def adjust_brightness_contrast(image):\n",
    "    brightness_change = np.random.uniform(0.05, 0.15)\n",
    "    contrast_change = np.random.uniform(0.05, 0.15)\n",
    "    \n",
    "    alpha = np.clip(1 + contrast_change, 0.1, 3)\n",
    "    beta = np.clip(0 + brightness_change * 255, 0, 255)\n",
    "    \n",
    "    adjusted = cv2.convertScaleAbs(image, alpha=alpha, beta=beta)\n",
    "    return adjusted\n",
    "\n",
    "# Функция для добавления шума к изображению с случайным значением в диапазоне (5% - 15%)\n",
    "def add_noise(image):\n",
    "    noise_factor = np.random.uniform(0.05, 0.15)\n",
    "    noise = np.random.normal(0, 1, image.shape) * noise_factor\n",
    "    noisy_image = image + noise\n",
    "    noisy_image = np.clip(noisy_image, 0, 255).astype(np.uint8)\n",
    "    return noisy_image\n",
    "\n",
    "# Директория с изображениями\n",
    "images_dir = \"train/images\"\n",
    "\n",
    "# Проход по всем изображениям в директории\n",
    "for image_name in os.listdir(images_dir):\n",
    "    image_path = os.path.join(images_dir, image_name)\n",
    "    \n",
    "    # Загрузка изображения\n",
    "    image = cv2.imread(image_path)\n",
    "    \n",
    "    # Применение аугментаций с заданными значениями в диапазоне (5% - 15%)\n",
    "    image = adjust_brightness_contrast(image)\n",
    "    image = add_noise(image)\n",
    "    \n",
    "    # Сохранение измененного изображения (замена оригинала)\n",
    "    cv2.imwrite(image_path, image)\n",
    "\n",
    "print(\"Аугментации применены успешно.\")\n",
    "\n"
   ]
  }
 ],
 "metadata": {
  "kernelspec": {
   "display_name": "Python 3 (ipykernel)",
   "language": "python",
   "name": "python3"
  },
  "language_info": {
   "codemirror_mode": {
    "name": "ipython",
    "version": 3
   },
   "file_extension": ".py",
   "mimetype": "text/x-python",
   "name": "python",
   "nbconvert_exporter": "python",
   "pygments_lexer": "ipython3",
   "version": "3.11.5"
  }
 },
 "nbformat": 4,
 "nbformat_minor": 5
}
